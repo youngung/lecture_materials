{
 "cells": [
  {
   "cell_type": "markdown",
   "id": "c2fc964b",
   "metadata": {},
   "source": [
    "# Data analysis and graphing"
   ]
  },
  {
   "cell_type": "code",
   "execution_count": 16,
   "id": "5e16efbc",
   "metadata": {},
   "outputs": [
    {
     "name": "stdout",
     "output_type": "stream",
     "text": [
      "Populating the interactive namespace from numpy and matplotlib\n"
     ]
    },
    {
     "name": "stderr",
     "output_type": "stream",
     "text": [
      "/Users/youngung/.pyenv/versions/3.8.0/lib/python3.8/site-packages/IPython/core/magics/pylab.py:159: UserWarning: pylab import has clobbered these variables: ['disp', 'time']\n",
      "`%matplotlib` prevents importing * from pylab and numpy\n",
      "  warn(\"pylab import has clobbered these variables: %s\"  % clobbered +\n"
     ]
    }
   ],
   "source": [
    "%pylab inline"
   ]
  },
  {
   "cell_type": "code",
   "execution_count": 17,
   "id": "f108a73e",
   "metadata": {},
   "outputs": [
    {
     "data": {
      "text/plain": [
       "'/Users/youngung/repo/lecture_materials/ipynb/metal_forming'"
      ]
     },
     "execution_count": 17,
     "metadata": {},
     "output_type": "execute_result"
    }
   ],
   "source": [
    "pwd # 현재 위치 출력"
   ]
  },
  {
   "cell_type": "code",
   "execution_count": 18,
   "id": "bc36fe8e",
   "metadata": {},
   "outputs": [],
   "source": [
    "## 파일이름 \"uniaxial_data_if_steel.dat\"가 다음의 위치에 주어져 있음"
   ]
  },
  {
   "cell_type": "markdown",
   "id": "7c5cfbbf",
   "metadata": {},
   "source": [
    "파일의 실제 위치: /Users/사용자이름/repo/lecture_materials/data/uniaxial_data_if_steel.dat\n",
    "\n",
    "윈도우의 경우(예): C:\\users\\user\\repo\\lecture_materials\\data\\uniaxial_data_if_steel.dat"
   ]
  },
  {
   "cell_type": "code",
   "execution_count": 19,
   "id": "b2ff6b29",
   "metadata": {},
   "outputs": [],
   "source": [
    "filename='../../data/uniaxial_data_if_steel.dat'"
   ]
  },
  {
   "cell_type": "code",
   "execution_count": 20,
   "id": "8fca6cd1",
   "metadata": {},
   "outputs": [],
   "source": [
    "## 아래 명령어를 통해, 처음 20번째 줄 까지는 실험 정보임을 알 수 있음. \n",
    "## 첫번째 칼럼은 시간(time), 두번째 칼럼은 (displacement, extension), 그리고 세번째 칼럼은 (Force), 네번째 칼럼은 사실 쓰지 않은 signal임."
   ]
  },
  {
   "cell_type": "code",
   "execution_count": 21,
   "id": "5d6d7e13",
   "metadata": {},
   "outputs": [
    {
     "name": "stdout",
     "output_type": "stream",
     "text": [
      "     1\tMTS793|MPT|ENU|1|2|.|/|:|1|0|0|A\r",
      "\r\n",
      "     2\t\r",
      "\r\n",
      "     3\tOperator Informatio\tTime:\t89.36898\tSec\t4/4/2014 1:55:08 PM\r",
      "\r\n",
      "     4\tUser\tLuecke\r",
      "\r\n",
      "     5\tSpecimen\tIF steel RD 4\r",
      "\r\n",
      "     6\tExperiment\t2014040401\r",
      "\r\n",
      "     7\tmaterial\tInterstiial free steel\r",
      "\r\n",
      "     8\tw \t12.638\tmm\r",
      "\r\n",
      "     9\tt\t1.2\tmm\r",
      "\r\n",
      "    10\tExtensometer 1\t3542-050M-050-ST G= 50mm\r",
      "\r\n",
      "    11\tExtensometer 2\tInstron diametral, NIST 635290\r",
      "\r\n",
      "    12\tGauge length pins free?\tyes\r",
      "\r\n",
      "    13\tControl Program\t20140404-tension\r",
      "\r\n",
      "    14\t\r",
      "\r\n",
      "    15\tUser Test Notes\tfirst test with Youngung\r",
      "\r\n",
      "    16\tOperator Information End\r",
      "\r\n",
      "    17\t\r",
      "\r\n",
      "    18\tData Acquisition\tTime:\t224.81364\tSec\t4/4/2014 1:57:23 PM\r",
      "\r\n",
      "    19\tTime\tAxial Displacement\tAxial Force\tAxial Strain\r",
      "\r\n",
      "    20\tSec\tmm\tN\tmm/mm\r",
      "\r\n",
      "    21\t122.5765\t-8.1314125\t-20.342424\t-0.00092654198\r",
      "\r\n",
      "    22\t122.67644\t-8.1314125\t77.01162\t-0.0009198279\r",
      "\r\n",
      "    23\t122.77637\t-8.1280556\t135.75975\t-0.0009198279\r",
      "\r\n",
      "    24\t122.8763\t-8.1213417\t249.89897\t-0.0009198279\r",
      "\r\n",
      "    25\t122.97624\t-8.1280556\t318.71823\t-0.00093325606\r",
      "\r\n",
      "    26\t123.07617\t-8.1179848\t377.46634\t-0.00092654198\r",
      "\r\n",
      "    27\t123.17611\t-8.1112709\t434.53595\t-0.00092654198\r",
      "\r\n",
      "    28\t123.27605\t-8.1146278\t491.60559\t-0.00092654198\r",
      "\r\n",
      "    29\t123.37598\t-8.1179848\t565.46039\t-0.00092654198\r",
      "\r\n",
      "    30\t123.47591\t-8.107913\t625.88702\t-0.0009198279\r",
      "\r\n",
      "cat: stdout: Broken pipe\r\n"
     ]
    }
   ],
   "source": [
    "!cat -n ../../data/uniaxial_data_if_steel.dat | head -n 30"
   ]
  },
  {
   "cell_type": "markdown",
   "id": "47e15b5a",
   "metadata": {},
   "source": [
    "- 시편의 폭과 두께가 주어져 있다 (8번째 그리고 9번째 라인 참고)"
   ]
  },
  {
   "cell_type": "code",
   "execution_count": 22,
   "id": "2353990e",
   "metadata": {},
   "outputs": [],
   "source": [
    "#따라서, 초기 푹과 두께를 다음과 같이 변수 w와 t에 저장하자.\n",
    "w=12.638\n",
    "t=1.2\n",
    "# 그리고 초기 gauge length는 50 mm 이다.\n",
    "l=50."
   ]
  },
  {
   "cell_type": "markdown",
   "id": "6bd82503",
   "metadata": {},
   "source": [
    "## 파일에서 NumPy array로 읽기\n",
    "\n",
    "- np.loadtxt 함수를 사용하자. 변수는 우선 위의 파일 이름과, (skiprows 옵션)을 활용하여 처음 20줄은 건너뛰자."
   ]
  },
  {
   "cell_type": "code",
   "execution_count": 23,
   "id": "bf6a0212",
   "metadata": {},
   "outputs": [],
   "source": [
    "dat=np.loadtxt(filename,skiprows=20)"
   ]
  },
  {
   "cell_type": "markdown",
   "id": "2d6b918a",
   "metadata": {},
   "source": [
    "- 파일에서 읽어진 데이터가 위와 같이 dat이름의 NumPy로 저장되며, 그 shape은 다음과 같다."
   ]
  },
  {
   "cell_type": "code",
   "execution_count": 24,
   "id": "b64e5565",
   "metadata": {},
   "outputs": [
    {
     "data": {
      "text/plain": [
       "(10002, 4)"
      ]
     },
     "execution_count": 24,
     "metadata": {},
     "output_type": "execute_result"
    }
   ],
   "source": [
    "dat.shape ## 행렬로 읽어들어짐,   주의 행(row)은 가로 그리고 렬은 세로를 뜻함. \n",
    "## 총 데이터 라인이 10002줄임을 알 수 있음"
   ]
  },
  {
   "cell_type": "markdown",
   "id": "9285fcdd",
   "metadata": {},
   "source": [
    "- dat의 첫번째 column은 시간, 두번째 column은 axial strain, 세번째 coloum은 힘이다. \n",
    "\n",
    "- 각 column을 slicing하여 각각 time, eps, force 라는 이름의 배열로 저장하자."
   ]
  },
  {
   "cell_type": "code",
   "execution_count": 25,
   "id": "fc7a7d65",
   "metadata": {},
   "outputs": [],
   "source": [
    "time=dat[:,0] ## time\n",
    "disp=dat[:,1] ## axial strain\n",
    "disp=disp-disp[0] ## displacement 영점 잡기\n",
    "force=dat[:,2] ## axial force"
   ]
  },
  {
   "cell_type": "markdown",
   "id": "94dcb7c5",
   "metadata": {},
   "source": [
    "## 시간에 따라 변한 displacement"
   ]
  },
  {
   "cell_type": "code",
   "execution_count": 26,
   "id": "5c5db426",
   "metadata": {},
   "outputs": [
    {
     "data": {
      "text/plain": [
       "Text(0, 0.5, 'Displacement [mm]')"
      ]
     },
     "execution_count": 26,
     "metadata": {},
     "output_type": "execute_result"
    },
    {
     "data": {
      "image/png": "[encoded data removed]",
      "text/plain": [
       "<Figure size 432x288 with 1 Axes>"
      ]
     },
     "metadata": {
      "needs_background": "light"
     },
     "output_type": "display_data"
    }
   ],
   "source": [
    "ax=gca() ## plotting할 axis object를 생성\n",
    "ax.plot(time,disp,label='Axial displacement') ## 생성된 axis object에 time vs displacement graph, 그리고 라벨링\n",
    "ax.legend() # graph에 legend 추가\n",
    "ax.set_xlabel('Time [sec]') # 수평선에 라벨링\n",
    "ax.set_ylabel('Displacement [mm]') # 수평선에 라벨링"
   ]
  },
  {
   "cell_type": "markdown",
   "id": "ffa1129e",
   "metadata": {},
   "source": [
    "## 데이터 분석"
   ]
  },
  {
   "cell_type": "markdown",
   "id": "a8338ae6",
   "metadata": {},
   "source": [
    "- displacment로부터 공칭 변형률을 계산하자."
   ]
  },
  {
   "cell_type": "markdown",
   "id": "2b2574a3",
   "metadata": {},
   "source": [
    " $\\varepsilon^{engi}=\\Delta l/l_0$"
   ]
  },
  {
   "cell_type": "code",
   "execution_count": 27,
   "id": "1ef2468e",
   "metadata": {},
   "outputs": [],
   "source": [
    "eps_engi=disp/l"
   ]
  },
  {
   "cell_type": "markdown",
   "id": "dfa53d70",
   "metadata": {},
   "source": [
    "- engineering strain으로부터 진변형률을 구하자\n",
    "\n",
    "$\\varepsilon^{true}=\\ln(1+\\varepsilon^{engi})$"
   ]
  },
  {
   "cell_type": "code",
   "execution_count": 28,
   "id": "46fcd157",
   "metadata": {},
   "outputs": [],
   "source": [
    "eps_true=np.log(1+eps_engi)"
   ]
  },
  {
   "cell_type": "markdown",
   "id": "46f52bbf",
   "metadata": {},
   "source": [
    "- Engineering stress를 구하자!"
   ]
  },
  {
   "cell_type": "code",
   "execution_count": 34,
   "id": "6ec7efc8",
   "metadata": {},
   "outputs": [],
   "source": [
    "sig_engi=force/t/w"
   ]
  },
  {
   "cell_type": "markdown",
   "id": "14586ab3",
   "metadata": {},
   "source": [
    "- True stress를 구하자"
   ]
  },
  {
   "cell_type": "code",
   "execution_count": 37,
   "id": "79ce7755",
   "metadata": {},
   "outputs": [],
   "source": [
    "sig_true=sig_engi*(1+eps_engi)"
   ]
  },
  {
   "cell_type": "markdown",
   "id": "c2bc61e4",
   "metadata": {},
   "source": [
    "- 시간에 따라 변한 변형률을 그려보자"
   ]
  },
  {
   "cell_type": "code",
   "execution_count": 30,
   "id": "80464779",
   "metadata": {},
   "outputs": [
    {
     "data": {
      "text/plain": [
       "Text(0, 0.5, 'Strain')"
      ]
     },
     "execution_count": 30,
     "metadata": {},
     "output_type": "execute_result"
    },
    {
     "data": {
      "image/png": "[encoded data removed]",
      "text/plain": [
       "<Figure size 432x288 with 1 Axes>"
      ]
     },
     "metadata": {
      "needs_background": "light"
     },
     "output_type": "display_data"
    }
   ],
   "source": [
    "ax=gca() ## plotting할 axis object를 생성\n",
    "ax.plot(time,eps_engi,label='Engineering strain') ## 생성된 axis object에 t vs x graph, 그리고 라벨링\n",
    "ax.plot(time,eps_true,label='Engineering strain') ## 생성된 axis object에 t vs x graph, 그리고 라벨링\n",
    "ax.legend() # graph에 legend 추가\n",
    "ax.set_xlabel('Time [sec]') # 수평선에 라벨링\n",
    "ax.set_ylabel('Strain') # 수평선에 라벨링"
   ]
  },
  {
   "cell_type": "markdown",
   "id": "391af6c0",
   "metadata": {},
   "source": [
    "- 시간에 따라 변한 힘(하중)을 그려보자"
   ]
  },
  {
   "cell_type": "code",
   "execution_count": 31,
   "id": "b2090f08",
   "metadata": {},
   "outputs": [
    {
     "data": {
      "text/plain": [
       "Text(0, 0.5, 'Axial strain')"
      ]
     },
     "execution_count": 31,
     "metadata": {},
     "output_type": "execute_result"
    },
    {
     "data": {
      "image/png": "[encoded data removed]",
      "text/plain": [
       "<Figure size 432x288 with 1 Axes>"
      ]
     },
     "metadata": {
      "needs_background": "light"
     },
     "output_type": "display_data"
    }
   ],
   "source": [
    "ax=gca()\n",
    "ax.plot(time,force,label='Axial force')\n",
    "ax.legend() # graph에 legend 추가\n",
    "ax.set_xlabel('Time [sec]') # 수평선에 라벨링\n",
    "ax.set_ylabel('Axial strain') # 수평선에 라벨링"
   ]
  },
  {
   "cell_type": "markdown",
   "id": "1f2656de",
   "metadata": {},
   "source": [
    "- 변형률에 따라 달라진 하중을 그려보자"
   ]
  },
  {
   "cell_type": "code",
   "execution_count": 33,
   "id": "9af7d521",
   "metadata": {},
   "outputs": [
    {
     "data": {
      "text/plain": [
       "Text(0, 0.5, 'Force')"
      ]
     },
     "execution_count": 33,
     "metadata": {},
     "output_type": "execute_result"
    },
    {
     "data": {
      "image/png": "[encoded data removed]",
      "text/plain": [
       "<Figure size 432x288 with 1 Axes>"
      ]
     },
     "metadata": {
      "needs_background": "light"
     },
     "output_type": "display_data"
    }
   ],
   "source": [
    "ax=gca()\n",
    "ax.plot(eps_engi,force,label='Axial force')\n",
    "ax.legend() # graph에 legend 추가\n",
    "ax.set_xlabel('Engineering Strain') # 수평선에 라벨링\n",
    "ax.set_ylabel('Force') # 수평선에 라벨링"
   ]
  },
  {
   "cell_type": "code",
   "execution_count": 38,
   "id": "3a8bad34",
   "metadata": {},
   "outputs": [
    {
     "data": {
      "text/plain": [
       "Text(0, 0.5, 'Stress [MPa]')"
      ]
     },
     "execution_count": 38,
     "metadata": {},
     "output_type": "execute_result"
    },
    {
     "data": {
      "image/png": "[encoded data removed]",
      "text/plain": [
       "<Figure size 432x288 with 1 Axes>"
      ]
     },
     "metadata": {
      "needs_background": "light"
     },
     "output_type": "display_data"
    }
   ],
   "source": [
    "ax=gca()\n",
    "ax.plot(eps_engi,sig_engi,label='Engineering stress-strain curve')\n",
    "ax.plot(eps_true,sig_true,label='Engineering stress-strain curve')\n",
    "ax.legend() # graph에 legend 추가\n",
    "ax.set_xlabel('Strain') # 수평선에 라벨링\n",
    "ax.set_ylabel('Stress [MPa]') # 수평선에 라벨링"
   ]
  }
 ],
 "metadata": {
  "kernelspec": {
   "display_name": "3.8.0",
   "language": "python",
   "name": "3.8.0"
  },
  "language_info": {
   "codemirror_mode": {
    "name": "ipython",
    "version": 3
   },
   "file_extension": ".py",
   "mimetype": "text/x-python",
   "name": "python",
   "nbconvert_exporter": "python",
   "pygments_lexer": "ipython3",
   "version": "3.8.0"
  }
 },
 "nbformat": 4,
 "nbformat_minor": 5
}
