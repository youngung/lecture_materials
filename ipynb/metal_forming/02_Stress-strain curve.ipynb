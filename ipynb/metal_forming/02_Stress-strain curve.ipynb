{
 "cells": [
  {
   "cell_type": "markdown",
   "metadata": {},
   "source": [
    "# Data analysis and graphing"
   ]
  },
  {
   "cell_type": "code",
   "execution_count": null,
   "metadata": {},
   "outputs": [],
   "source": [
    "%pylab inline"
   ]
  },
  {
   "cell_type": "code",
   "execution_count": null,
   "metadata": {},
   "outputs": [],
   "source": [
    "pwd # 현재 위치 출력"
   ]
  },
  {
   "cell_type": "code",
   "execution_count": null,
   "metadata": {},
   "outputs": [],
   "source": [
    "## 파일이름 \"uniaxial_data_if_steel.dat\"가 다음의 위치에 주어져 있음"
   ]
  },
  {
   "cell_type": "markdown",
   "metadata": {},
   "source": [
    "파일의 실제 위치: /Users/사용자이름/repo/lecture_materials/data/uniaxial_data_if_steel.dat\n",
    "\n",
    "윈도우의 경우(예): C:\\users\\user\\repo\\lecture_materials\\data\\uniaxial_data_if_steel.dat"
   ]
  },
  {
   "cell_type": "code",
   "execution_count": null,
   "metadata": {},
   "outputs": [],
   "source": [
    "filename='../../data/uniaxial_data_if_steel.dat'"
   ]
  },
  {
   "cell_type": "code",
   "execution_count": null,
   "metadata": {},
   "outputs": [],
   "source": [
    "## 아래 명령어를 통해, 처음 20번째 줄 까지는 실험 정보임을 알 수 있음. \n",
    "## 첫번째 칼럼은 시간(time), 두번째 칼럼은 (displacement, extension), 그리고 세번째 칼럼은 (Force), 네번째 칼럼은 사실 쓰지 않은 signal임."
   ]
  },
  {
   "cell_type": "code",
   "execution_count": null,
   "metadata": {},
   "outputs": [],
   "source": [
    "!cat -n ../../data/uniaxial_data_if_steel.dat | head -n 30"
   ]
  },
  {
   "cell_type": "markdown",
   "metadata": {},
   "source": [
    "- 시편의 폭과 두께가 주어져 있다 (8번째 그리고 9번째 라인 참고)"
   ]
  },
  {
   "cell_type": "code",
   "execution_count": null,
   "metadata": {},
   "outputs": [],
   "source": [
    "#따라서, 초기 푹과 두께를 다음과 같이 변수 w와 t에 저장하자.\n",
    "w=12.638\n",
    "t=1.2\n",
    "# 그리고 초기 gauge length는 50 mm 이다.\n",
    "l=50."
   ]
  },
  {
   "cell_type": "markdown",
   "metadata": {},
   "source": [
    "## 파일에서 NumPy array로 읽기\n",
    "\n",
    "- np.loadtxt 함수를 사용하자. 변수는 우선 위의 파일 이름과, (skiprows 옵션)을 활용하여 처음 20줄은 건너뛰자."
   ]
  },
  {
   "cell_type": "code",
   "execution_count": null,
   "metadata": {},
   "outputs": [],
   "source": [
    "dat=np.loadtxt(filename,skiprows=20)"
   ]
  },
  {
   "cell_type": "markdown",
   "metadata": {},
   "source": [
    "- 파일에서 읽어진 데이터가 위와 같이 dat이름의 NumPy로 저장되며, 그 shape은 다음과 같다."
   ]
  },
  {
   "cell_type": "code",
   "execution_count": null,
   "metadata": {},
   "outputs": [],
   "source": [
    "dat.shape ## 행렬로 읽어들어짐,   주의 행(row)은 가로 그리고 렬은 세로를 뜻함. \n",
    "## 총 데이터 라인이 10002줄임을 알 수 있음"
   ]
  },
  {
   "cell_type": "markdown",
   "metadata": {},
   "source": [
    "- dat의 첫번째 column은 시간, 두번째 column은 axial strain, 세번째 coloum은 힘이다. \n",
    "\n",
    "- 각 column을 slicing하여 각각 time, eps, force 라는 이름의 배열로 저장하자."
   ]
  },
  {
   "cell_type": "code",
   "execution_count": null,
   "metadata": {},
   "outputs": [],
   "source": [
    "time=dat[:,0] ## time\n",
    "disp=dat[:,1] ## axial strain\n",
    "disp=disp-disp[0] ## displacement 영점 잡기\n",
    "force=dat[:,2] ## axial force"
   ]
  },
  {
   "cell_type": "markdown",
   "metadata": {},
   "source": [
    "## 시간에 따라 변한 displacement"
   ]
  },
  {
   "cell_type": "code",
   "execution_count": null,
   "metadata": {},
   "outputs": [],
   "source": [
    "ax=gca() ## plotting할 axis object를 생성\n",
    "ax.plot(time,disp,label='Axial displacement') ## 생성된 axis object에 time vs displacement graph, 그리고 라벨링\n",
    "ax.legend() # graph에 legend 추가\n",
    "ax.set_xlabel('Time [sec]') # 수평선에 라벨링\n",
    "ax.set_ylabel('Displacement [mm]') # 수평선에 라벨링"
   ]
  },
  {
   "cell_type": "markdown",
   "metadata": {},
   "source": [
    "## 데이터 분석"
   ]
  },
  {
   "cell_type": "markdown",
   "metadata": {},
   "source": [
    "- displacment로부터 공칭 변형률을 계산하자."
   ]
  },
  {
   "cell_type": "markdown",
   "metadata": {},
   "source": [
    " $\\varepsilon^{engi}=\\Delta l/l_0$"
   ]
  },
  {
   "cell_type": "code",
   "execution_count": null,
   "metadata": {},
   "outputs": [],
   "source": [
    "eps_engi=disp/l"
   ]
  },
  {
   "cell_type": "markdown",
   "metadata": {},
   "source": [
    "- engineering strain으로부터 진변형률을 구하자\n",
    "\n",
    "$\\varepsilon^{true}=\\ln(1+\\varepsilon^{engi})$"
   ]
  },
  {
   "cell_type": "code",
   "execution_count": null,
   "metadata": {},
   "outputs": [],
   "source": [
    "eps_true=np.log(1+eps_engi)"
   ]
  },
  {
   "cell_type": "markdown",
   "metadata": {},
   "source": [
    "- Engineering stress를 구하자!"
   ]
  },
  {
   "cell_type": "code",
   "execution_count": null,
   "metadata": {},
   "outputs": [],
   "source": [
    "sig_engi=force/t/w"
   ]
  },
  {
   "cell_type": "markdown",
   "metadata": {},
   "source": [
    "- True stress를 구하자"
   ]
  },
  {
   "cell_type": "code",
   "execution_count": null,
   "metadata": {},
   "outputs": [],
   "source": [
    "sig_true=sig_engi*(1+eps_engi)"
   ]
  },
  {
   "cell_type": "markdown",
   "metadata": {},
   "source": [
    "- 시간에 따라 변한 변형률을 그려보자"
   ]
  },
  {
   "cell_type": "code",
   "execution_count": null,
   "metadata": {},
   "outputs": [],
   "source": [
    "ax=gca() ## plotting할 axis object를 생성\n",
    "ax.plot(time,eps_engi,label='Engineering strain') ## 생성된 axis object에 t vs x graph, 그리고 라벨링\n",
    "ax.plot(time,eps_true,label='Engineering strain') ## 생성된 axis object에 t vs x graph, 그리고 라벨링\n",
    "ax.legend() # graph에 legend 추가\n",
    "ax.set_xlabel('Time [sec]') # 수평선에 라벨링\n",
    "ax.set_ylabel('Strain') # 수평선에 라벨링"
   ]
  },
  {
   "cell_type": "markdown",
   "metadata": {},
   "source": [
    "- 시간에 따라 변한 힘(하중)을 그려보자"
   ]
  },
  {
   "cell_type": "code",
   "execution_count": null,
   "metadata": {},
   "outputs": [],
   "source": [
    "ax=gca()\n",
    "ax.plot(time,force,label='Axial force')\n",
    "ax.legend() # graph에 legend 추가\n",
    "ax.set_xlabel('Time [sec]') # 수평선에 라벨링\n",
    "ax.set_ylabel('Axial strain') # 수평선에 라벨링"
   ]
  },
  {
   "cell_type": "markdown",
   "metadata": {},
   "source": [
    "- 변형률에 따라 달라진 하중을 그려보자"
   ]
  },
  {
   "cell_type": "code",
   "execution_count": null,
   "metadata": {},
   "outputs": [],
   "source": [
    "ax=gca()\n",
    "ax.plot(eps_engi,force,label='Axial force')\n",
    "ax.legend() # graph에 legend 추가\n",
    "ax.set_xlabel('Engineering Strain') # 수평선에 라벨링\n",
    "ax.set_ylabel('Force') # 수평선에 라벨링"
   ]
  },
  {
   "cell_type": "code",
   "execution_count": null,
   "metadata": {},
   "outputs": [],
   "source": [
    "ax=gca()\n",
    "ax.plot(eps_engi,sig_engi,label='Engineering stress-strain curve')\n",
    "ax.plot(eps_true,sig_true,label='Engineering stress-strain curve')\n",
    "ax.legend() # graph에 legend 추가\n",
    "ax.set_xlabel('Strain') # 수평선에 라벨링\n",
    "ax.set_ylabel('Stress [MPa]') # 수평선에 라벨링"
   ]
  },
  {
   "cell_type": "markdown",
   "metadata": {},
   "source": [
    "## 최대 하중값을 찾고, total elongation을 찾아보자"
   ]
  },
  {
   "cell_type": "code",
   "execution_count": null,
   "metadata": {},
   "outputs": [],
   "source": [
    "ith=np.argmax(force) ## i-th element in the array 'force' gives the highest value.\n",
    "## i-th of time array also gives the time-stamp at which max force was reached.\n",
    "## Therefore, i-th element of strain is the strain at which max force was reached."
   ]
  },
  {
   "cell_type": "code",
   "execution_count": null,
   "metadata": {},
   "outputs": [],
   "source": [
    "## 위 데이터를 logarithmic scale (log10)로 나타내어보자."
   ]
  }
 ],
 "metadata": {
  "kernelspec": {
   "display_name": "3.8.0",
   "language": "python",
   "name": "3.8.0"
  },
  "language_info": {
   "codemirror_mode": {
    "name": "ipython",
    "version": 3
   },
   "file_extension": ".py",
   "mimetype": "text/x-python",
   "name": "python",
   "nbconvert_exporter": "python",
   "pygments_lexer": "ipython3",
   "version": "3.8.0"
  }
 },
 "nbformat": 4,
 "nbformat_minor": 5
}
