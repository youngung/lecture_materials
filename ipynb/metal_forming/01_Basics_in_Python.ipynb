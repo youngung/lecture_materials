{
 "cells": [
  {
   "cell_type": "markdown",
   "metadata": {},
   "source": [
    "# 2021년 2학기 수업을 위한 [Jupyter](https://jupyter.org) notebook 그리고 [Python](https://python.org) 설명\n",
    "\n",
    "![From zero to hero](https://memegenerator.net/img/instances/46932989.jpg \"From zero to here\")\n",
    "\n",
    "[창원대학교](https://changwon.ac.kr) 신소재공학부 [재료역학연구실](https://youngung.github.io/members/)  [정영웅](mailto:yjeong@changwon.ac.kr)"
   ]
  },
  {
   "cell_type": "markdown",
   "metadata": {},
   "source": [
    "# 질문"
   ]
  },
  {
   "cell_type": "markdown",
   "metadata": {},
   "source": [
    "- [컴퓨터 언어](https://ko.wikipedia.org/wiki/프로그래밍_언어)를 배워보았나요?"
   ]
  },
  {
   "cell_type": "markdown",
   "metadata": {},
   "source": [
    " - [Matlab](https://kr.mathworks.com)을 들어보셨나요?"
   ]
  },
  {
   "cell_type": "markdown",
   "metadata": {},
   "source": [
    "- [Python](https://python.org)을 들어보았나요? \n",
    "   - [파이썬 자습서](https://docs.python.org/ko/3/tutorial/index.html)\n",
    "   - [짧은 파이썬 소개](https://youtu.be/yytWGELNeOI)"
   ]
  },
  {
   "cell_type": "markdown",
   "metadata": {},
   "source": [
    "# 목표"
   ]
  },
  {
   "cell_type": "markdown",
   "metadata": {},
   "source": [
    "- Python 및 [Jupyter notebook](https://jupyter.org) 환경에 대한 기초 설명 \n",
    "- **자세한 설명은 방대하므로 생략하고**, 수업시간에 필요한 내용으로만 구성"
   ]
  },
  {
   "cell_type": "markdown",
   "metadata": {},
   "source": [
    "# Jupyter notebook 간단한 키조작"
   ]
  },
  {
   "cell_type": "markdown",
   "metadata": {},
   "source": [
    "- 인터넷 브라우저에서 이용가능하여, 스마트폰의 브라우저 앱으로 구동가능하나, 컴퓨터(혹은 테블릿?)환경이 더욱 적절"
   ]
  },
  {
   "cell_type": "markdown",
   "metadata": {},
   "source": [
    "- 어딘가의 서버(컴퓨터)가 여러분들의 Jupyter notebook의 '계산'을 수행해 주고 있습니다. (Cloud)\n",
    "\n",
    "- Cloud 실행시, 오랫동안 활동(activity)가 없으면 끊겨요!\n",
    "\n",
    "- 여러분들의 컴퓨터에서 각자 실행하고 싶다면 ... [여기](https://github.com/youngung/lecture_materials) repository에서 다운로드 받아서 설치가능합니다.  (물론 올바른 실행을 위해서, Python과 몇몇 package들을 설치해야 가능합니다.)"
   ]
  },
  {
   "cell_type": "markdown",
   "metadata": {},
   "source": [
    "- <font color='blue'>파란색</font> (cell간 이동, command mode)\n",
    "\n",
    "- <font color='green'>녹색</font> (cell내 수정, edit mode)\n",
    "\n",
    "- cell간 이동 후 enter로 수정모드로 변경\n",
    "\n",
    "- j키 (아래) k키 (위)\n",
    "\n",
    "- shift-enter 조합키\n",
    "\n",
    "- ctrl-enter 조합키"
   ]
  },
  {
   "cell_type": "markdown",
   "metadata": {},
   "source": [
    "- 코드를 가지고 놀다가 뭔가 망쳐서 실행이 잘 안되어요 ㅠㅠ\n",
    "\n",
    "A) Kernel menu에서 restart 실행하여 다시 해보세요!\n",
    "\n",
    "B) 혹은 binder link를 다시 실행하면 되겠습니다."
   ]
  },
  {
   "cell_type": "markdown",
   "metadata": {},
   "source": [
    "## Cell\n",
    "- Markdown 과 code\n",
    "\n",
    "- LaTex을 활용한 수식 적기\n",
    "\n",
    "$a=b_ic_i$\n",
    "\n",
    "$\\mathbf{\\alpha}\\cdot\\mathbf{\\beta}$\n",
    "\n",
    "$E=mc^2$\n",
    "\n",
    "$\\int_1^2 f(x)dx$"
   ]
  },
  {
   "cell_type": "code",
   "execution_count": null,
   "metadata": {},
   "outputs": [],
   "source": [
    "## to invoke interactive use of numpy, matplotlib\n",
    "%pylab inline"
   ]
  },
  {
   "cell_type": "markdown",
   "metadata": {},
   "source": [
    "# arithmetic operations (수학연산)"
   ]
  },
  {
   "cell_type": "markdown",
   "metadata": {},
   "source": [
    "- 더하기, 빼기, 곱하기, 나누기"
   ]
  },
  {
   "cell_type": "code",
   "execution_count": null,
   "metadata": {},
   "outputs": [],
   "source": [
    "3+3"
   ]
  },
  {
   "cell_type": "code",
   "execution_count": null,
   "metadata": {},
   "outputs": [],
   "source": [
    "3-2"
   ]
  },
  {
   "cell_type": "code",
   "execution_count": null,
   "metadata": {},
   "outputs": [],
   "source": [
    "2*3"
   ]
  },
  {
   "cell_type": "code",
   "execution_count": null,
   "metadata": {},
   "outputs": [],
   "source": [
    "2/3"
   ]
  },
  {
   "cell_type": "markdown",
   "metadata": {},
   "source": [
    "- 지수"
   ]
  },
  {
   "cell_type": "code",
   "execution_count": null,
   "metadata": {},
   "outputs": [],
   "source": [
    "2**2"
   ]
  },
  {
   "cell_type": "code",
   "execution_count": null,
   "metadata": {},
   "outputs": [],
   "source": [
    "2**0.5"
   ]
  },
  {
   "cell_type": "markdown",
   "metadata": {},
   "source": [
    "- Value in scientific notation "
   ]
  },
  {
   "cell_type": "code",
   "execution_count": null,
   "metadata": {},
   "outputs": [],
   "source": [
    "1e-5"
   ]
  },
  {
   "cell_type": "markdown",
   "metadata": {},
   "source": [
    "# 복소수 (complex number)"
   ]
  },
  {
   "cell_type": "markdown",
   "metadata": {},
   "source": [
    "$(1+2i)\\times i$"
   ]
  },
  {
   "cell_type": "code",
   "execution_count": null,
   "metadata": {},
   "outputs": [],
   "source": [
    "(1+2j)*1j"
   ]
  },
  {
   "cell_type": "markdown",
   "metadata": {},
   "source": [
    "- Euler's fomula: $e^{-ix}=\\cos{x}+i \\sin{x}$"
   ]
  },
  {
   "cell_type": "code",
   "execution_count": null,
   "metadata": {},
   "outputs": [],
   "source": [
    "exp(pi/2.*1j)"
   ]
  },
  {
   "cell_type": "markdown",
   "metadata": {},
   "source": [
    "## 에러 메시지를 꼭 끝까지 읽고 이해하려는 노력이 필요!"
   ]
  },
  {
   "cell_type": "code",
   "execution_count": null,
   "metadata": {},
   "outputs": [],
   "source": [
    "#3/'3' #예"
   ]
  },
  {
   "cell_type": "markdown",
   "metadata": {},
   "source": [
    "### 예제"
   ]
  },
  {
   "cell_type": "markdown",
   "metadata": {},
   "source": [
    "1. 다음 연산을 수행해보세요.\n",
    "\n",
    "$\\sqrt{2.3}$"
   ]
  },
  {
   "cell_type": "markdown",
   "metadata": {},
   "source": [
    "2.  다음 연산을 수행해보세요. $2^3+(3\\times0.3)^3/\\sqrt{2}$"
   ]
  },
  {
   "cell_type": "markdown",
   "metadata": {},
   "source": [
    "3. 다음 연산을 수행해보세요. $(2/3)^3\\times7\\times \\cos(60^\\circ)$"
   ]
  },
  {
   "cell_type": "markdown",
   "metadata": {},
   "source": [
    "4. 다음 연산을 수행해보세요. \n",
    "$\\tan^{-1}(1)$"
   ]
  },
  {
   "cell_type": "code",
   "execution_count": null,
   "metadata": {},
   "outputs": [],
   "source": [
    "arctan(1)*180/pi"
   ]
  },
  {
   "cell_type": "markdown",
   "metadata": {},
   "source": [
    "## 연산 결과를 사용하고 싶다면?\n",
    "- 빨간색 <font color='red'>Out [x]</font> 를 사용해보세요"
   ]
  },
  {
   "cell_type": "code",
   "execution_count": null,
   "metadata": {},
   "outputs": [],
   "source": [
    "Out[7]*2**0.5"
   ]
  },
  {
   "cell_type": "markdown",
   "metadata": {},
   "source": [
    "## Basics in Python"
   ]
  },
  {
   "cell_type": "markdown",
   "metadata": {},
   "source": [
    "- Hello, world 예제"
   ]
  },
  {
   "cell_type": "code",
   "execution_count": null,
   "metadata": {},
   "outputs": [],
   "source": [
    "print('Hello, world  (1)')\n",
    "print('Hello','world   (2)')"
   ]
  },
  {
   "cell_type": "code",
   "execution_count": null,
   "metadata": {},
   "outputs": [],
   "source": [
    "print(\"'#' 으로 시작하는 line은 comment이며 Python이 실행하지 않음\")"
   ]
  },
  {
   "cell_type": "markdown",
   "metadata": {},
   "source": [
    "변수 (정수, 실수, 문자, function/method, 리스트)"
   ]
  },
  {
   "cell_type": "code",
   "execution_count": null,
   "metadata": {},
   "outputs": [],
   "source": [
    "type(1)"
   ]
  },
  {
   "cell_type": "code",
   "execution_count": null,
   "metadata": {},
   "outputs": [],
   "source": [
    "type(3.5)"
   ]
  },
  {
   "cell_type": "code",
   "execution_count": null,
   "metadata": {},
   "outputs": [],
   "source": [
    "type('34')"
   ]
  },
  {
   "cell_type": "code",
   "execution_count": null,
   "metadata": {},
   "outputs": [],
   "source": [
    "type(\"12\")"
   ]
  },
  {
   "cell_type": "code",
   "execution_count": null,
   "metadata": {},
   "outputs": [],
   "source": [
    "type(print)"
   ]
  },
  {
   "cell_type": "code",
   "execution_count": null,
   "metadata": {},
   "outputs": [],
   "source": [
    "type([1,3,4])"
   ]
  },
  {
   "cell_type": "code",
   "execution_count": null,
   "metadata": {},
   "outputs": [],
   "source": [
    "type(['1','2','3'])"
   ]
  },
  {
   "cell_type": "code",
   "execution_count": null,
   "metadata": {},
   "outputs": [],
   "source": [
    "type([1,'2',print])"
   ]
  },
  {
   "cell_type": "code",
   "execution_count": null,
   "metadata": {},
   "outputs": [],
   "source": [
    "type(True)"
   ]
  },
  {
   "cell_type": "code",
   "execution_count": null,
   "metadata": {},
   "outputs": [],
   "source": [
    "type(False)"
   ]
  },
  {
   "cell_type": "code",
   "execution_count": null,
   "metadata": {},
   "outputs": [],
   "source": [
    "type(23>3)"
   ]
  },
  {
   "cell_type": "code",
   "execution_count": null,
   "metadata": {},
   "outputs": [],
   "source": [
    "23>=23"
   ]
  },
  {
   "cell_type": "markdown",
   "metadata": {},
   "source": [
    "- List 내의 element"
   ]
  },
  {
   "cell_type": "code",
   "execution_count": null,
   "metadata": {},
   "outputs": [],
   "source": [
    "a=[1,2,3,4,5,6]\n",
    "print('첫번째 element:',a[0])\n",
    "print('두번째 element:',a[1])\n",
    "print('세번째 element:',a[2])\n",
    "print('마지막 element:',a[-1])"
   ]
  },
  {
   "cell_type": "markdown",
   "metadata": {},
   "source": [
    "- Slicing"
   ]
  },
  {
   "cell_type": "code",
   "execution_count": null,
   "metadata": {},
   "outputs": [],
   "source": [
    "print(\"\"\" +---+---+---+---+---+---+\n",
    " | P | y | t | h | o | n |\n",
    " +---+---+---+---+---+---+\n",
    " 0   1   2   3   4   5   6\n",
    "-6  -5  -4  -3  -2  -1\"\"\")\n"
   ]
  },
  {
   "cell_type": "code",
   "execution_count": null,
   "metadata": {},
   "outputs": [],
   "source": [
    "a='abcdefg'\n",
    "print(a[0:1]) # 0 included, 1 excluded"
   ]
  },
  {
   "cell_type": "code",
   "execution_count": null,
   "metadata": {},
   "outputs": [],
   "source": [
    "a[3:5] # 3 included, 5 exlucded"
   ]
  },
  {
   "cell_type": "code",
   "execution_count": null,
   "metadata": {},
   "outputs": [],
   "source": [
    "a[:] # entire"
   ]
  },
  {
   "cell_type": "code",
   "execution_count": null,
   "metadata": {},
   "outputs": [],
   "source": [
    "a[4:] # 4 included until the end"
   ]
  },
  {
   "cell_type": "markdown",
   "metadata": {},
   "source": [
    "- nested list"
   ]
  },
  {
   "cell_type": "code",
   "execution_count": null,
   "metadata": {},
   "outputs": [],
   "source": [
    "a=[3,4,5,[5,3,4],[[3,4],'[3,4]']]\n",
    "print(a)"
   ]
  },
  {
   "cell_type": "markdown",
   "metadata": {},
   "source": [
    "- nested object"
   ]
  },
  {
   "cell_type": "markdown",
   "metadata": {},
   "source": [
    "a=3"
   ]
  },
  {
   "cell_type": "code",
   "execution_count": null,
   "metadata": {},
   "outputs": [],
   "source": [
    "class a:\n",
    "    greeting='I am an a'\n",
    "    value=3\n",
    "    name='a'\n",
    "    지능=150\n",
    "    감성=10\n",
    "    def p():\n",
    "        print('hi')"
   ]
  },
  {
   "cell_type": "code",
   "execution_count": null,
   "metadata": {},
   "outputs": [],
   "source": [
    "a.지능"
   ]
  },
  {
   "cell_type": "code",
   "execution_count": null,
   "metadata": {},
   "outputs": [],
   "source": [
    "a.dfd=3"
   ]
  },
  {
   "cell_type": "code",
   "execution_count": null,
   "metadata": {},
   "outputs": [],
   "source": [
    "a.dfd"
   ]
  },
  {
   "cell_type": "code",
   "execution_count": null,
   "metadata": {},
   "outputs": [],
   "source": [
    "dir(a)"
   ]
  },
  {
   "cell_type": "code",
   "execution_count": null,
   "metadata": {},
   "outputs": [],
   "source": [
    "a.p()"
   ]
  },
  {
   "cell_type": "markdown",
   "metadata": {},
   "source": [
    "# [NumPy](https://numpy.org)\n",
    "NumPy는 Python 커뮤니티에서 Scientific array의 계산 등에 널리 쓰이는 package. 최근 [Chan Zuckerberg Initiative](https://chanzuckerberg.com)의 Grant 수여"
   ]
  },
  {
   "cell_type": "markdown",
   "metadata": {},
   "source": [
    "- 배열(array)를 활용해 vector나 tensor처럼 '데이터'를 저장할 수 있다. \n",
    "\n",
    "- 앞으로 벡터와 tensor의 구분은 희미해지고, 모두 배열을 통해 vector 그리고 tensor 연산을 하는 것을 볼 수 있다."
   ]
  },
  {
   "cell_type": "markdown",
   "metadata": {},
   "source": [
    "- 아래에 나올 \"np.xxx\"의 정체는 NumPy(np)에 소속되어 있는 함수, 혹은 method 등을 일컫는다고 생각하면 되겠다.\n",
    "- 제일 상위 cell에서 %pylab 명령어를 실행하여 세팅된 환경이다."
   ]
  },
  {
   "cell_type": "code",
   "execution_count": null,
   "metadata": {},
   "outputs": [],
   "source": [
    "a=np.array([1,2,34]) ## 1,2,34로 이루어진 '리스트' 변수를 NumPy 배열 (numpy array)로 변환하여 a라는 변수에 저장"
   ]
  },
  {
   "cell_type": "markdown",
   "metadata": {},
   "source": [
    "- 출력을 하면..."
   ]
  },
  {
   "cell_type": "code",
   "execution_count": null,
   "metadata": {},
   "outputs": [],
   "source": [
    "print(a)"
   ]
  },
  {
   "cell_type": "markdown",
   "metadata": {},
   "source": [
    "- 3x3 행렬?"
   ]
  },
  {
   "cell_type": "code",
   "execution_count": null,
   "metadata": {},
   "outputs": [],
   "source": [
    "a=[ [1,2,3],[4,5,6],[7,8,9] ] ## 3x3 행렬의 '리스트' 변수를 a에 저장 (bracket []을 사용한다. parenthesis ()와 구분할것)\n",
    "a=np.array(a)## 변수a를 NumPy 배열로 변환하여 다시 변수 a에 저장"
   ]
  },
  {
   "cell_type": "code",
   "execution_count": null,
   "metadata": {},
   "outputs": [],
   "source": [
    "print(a)"
   ]
  },
  {
   "cell_type": "markdown",
   "metadata": {},
   "source": [
    "- 행렬의 구성성분값? (인덱스가 0부터 시작함에 유의!, 가령 3개의 인덱스는 0,1,2가 된다 (1,2,3)이 아니다!)"
   ]
  },
  {
   "cell_type": "code",
   "execution_count": null,
   "metadata": {},
   "outputs": [],
   "source": [
    "print(\"1번째 행의 1번째 렬의 구성성분값?:\",a[0,0])"
   ]
  },
  {
   "cell_type": "code",
   "execution_count": null,
   "metadata": {},
   "outputs": [],
   "source": [
    "print(\"3번째 행의 2번째 렬의 구성성분값?:\",a[2,1])"
   ]
  },
  {
   "cell_type": "code",
   "execution_count": null,
   "metadata": {},
   "outputs": [],
   "source": [
    "i=1\n",
    "j=3\n",
    "print('%i번째 행의 %i번째 렬의 구성성분값?:'%(i,j),a[i-1,j-1])"
   ]
  },
  {
   "cell_type": "markdown",
   "metadata": {},
   "source": [
    "- NumPy 배열(array)의 List 와의 차별성"
   ]
  },
  {
   "cell_type": "code",
   "execution_count": null,
   "metadata": {},
   "outputs": [],
   "source": [
    "a=[[3,4,5],[3,4,5],[1,32,3]]\n",
    "#a[0,2] # this is not working, instead \n",
    "print(a[0][2])\n",
    "\n",
    "b=np.array(a) # store list a to numpy array b\n",
    "print(b[0,2])"
   ]
  },
  {
   "cell_type": "markdown",
   "metadata": {},
   "source": [
    "- slicing"
   ]
  },
  {
   "cell_type": "code",
   "execution_count": null,
   "metadata": {},
   "outputs": [],
   "source": [
    "print(b)"
   ]
  },
  {
   "cell_type": "code",
   "execution_count": null,
   "metadata": {},
   "outputs": [],
   "source": [
    "print(b[2,:])# 2번째 행에 해당하며, 렬과 상관없이 모두 담은 결과 출력"
   ]
  },
  {
   "cell_type": "code",
   "execution_count": null,
   "metadata": {},
   "outputs": [],
   "source": [
    "print(b[:,1])# 1번째 렬에 해당하며, 행과 상관없이 모두 담은 결과 출력"
   ]
  },
  {
   "cell_type": "code",
   "execution_count": null,
   "metadata": {},
   "outputs": [],
   "source": [
    "c=b[:,2]\n",
    "print(c) # 3번째 렬에 해당하는, 행과 상관없는 결과 모두 담아 c에 저장한 뒤 출력"
   ]
  },
  {
   "cell_type": "code",
   "execution_count": null,
   "metadata": {},
   "outputs": [],
   "source": [
    "## numpy 배열의 intrinsic methods"
   ]
  },
  {
   "cell_type": "code",
   "execution_count": null,
   "metadata": {},
   "outputs": [],
   "source": [
    "a=np.array([1,2,4])\n",
    "\n",
    "print('sum of all components:',a.sum())"
   ]
  },
  {
   "cell_type": "code",
   "execution_count": null,
   "metadata": {},
   "outputs": [],
   "source": [
    "b=np.array([[1,2,3],[3,4,5],[-1,3,4]])\n",
    "print('sum of all components:',b.sum())"
   ]
  },
  {
   "cell_type": "code",
   "execution_count": null,
   "metadata": {},
   "outputs": [],
   "source": [
    "print('a 배열의 shape?')\n",
    "print(a.shape)"
   ]
  },
  {
   "cell_type": "code",
   "execution_count": null,
   "metadata": {},
   "outputs": [],
   "source": [
    "print('len(array)?:',len(a))"
   ]
  },
  {
   "cell_type": "markdown",
   "metadata": {},
   "source": [
    "- 2x2 identity array 생성"
   ]
  },
  {
   "cell_type": "code",
   "execution_count": null,
   "metadata": {},
   "outputs": [],
   "source": [
    "np.eye(2)"
   ]
  },
  {
   "cell_type": "markdown",
   "metadata": {},
   "source": [
    "- 0으로 가득찬 3x3 array 생성"
   ]
  },
  {
   "cell_type": "code",
   "execution_count": null,
   "metadata": {},
   "outputs": [],
   "source": [
    "np.array((3,3))"
   ]
  },
  {
   "cell_type": "markdown",
   "metadata": {},
   "source": [
    "- Numpy array의 component-wise operations (구성성분별로 적용되는 연산들)"
   ]
  },
  {
   "cell_type": "code",
   "execution_count": null,
   "metadata": {},
   "outputs": [],
   "source": [
    "a=np.array([1,2,4])\n",
    "b=np.array([0,1,2])"
   ]
  },
  {
   "cell_type": "markdown",
   "metadata": {},
   "source": [
    "$b_i=a_i^2$"
   ]
  },
  {
   "cell_type": "code",
   "execution_count": null,
   "metadata": {},
   "outputs": [],
   "source": [
    "a**2"
   ]
  },
  {
   "cell_type": "markdown",
   "metadata": {},
   "source": [
    "$a_i+b_i$"
   ]
  },
  {
   "cell_type": "code",
   "execution_count": null,
   "metadata": {},
   "outputs": [],
   "source": [
    "a+b"
   ]
  },
  {
   "cell_type": "markdown",
   "metadata": {},
   "source": [
    "$a_i-b_i$"
   ]
  },
  {
   "cell_type": "code",
   "execution_count": null,
   "metadata": {},
   "outputs": [],
   "source": [
    "a-b"
   ]
  },
  {
   "cell_type": "markdown",
   "metadata": {},
   "source": [
    "$a_ia_i$  여기서 $i$는 Einstein summation을 따르지 않고 free index라 가정하자."
   ]
  },
  {
   "cell_type": "code",
   "execution_count": null,
   "metadata": {},
   "outputs": [],
   "source": [
    "(a**2).sum()"
   ]
  },
  {
   "cell_type": "markdown",
   "metadata": {},
   "source": [
    "$\\sqrt{a_i a_i}$"
   ]
  },
  {
   "cell_type": "code",
   "execution_count": null,
   "metadata": {},
   "outputs": [],
   "source": [
    "((a**2).sum())**0.5"
   ]
  },
  {
   "cell_type": "markdown",
   "metadata": {},
   "source": [
    "$a_i / \\sqrt{a_k a_k}$   여기서 $k$가 dummy, $i$는 free"
   ]
  },
  {
   "cell_type": "code",
   "execution_count": null,
   "metadata": {},
   "outputs": [],
   "source": [
    "a/((a**2).sum())**0.5"
   ]
  },
  {
   "cell_type": "markdown",
   "metadata": {},
   "source": [
    "## Loop (반복문)\n",
    "- 행렬 계산에서 반복문은 매우 중요하다. 특히 dummy 인덱스를 계산할때, 반복문이 어떻게 사용되는지 알아야겠다."
   ]
  },
  {
   "cell_type": "markdown",
   "metadata": {},
   "source": [
    "- For loop"
   ]
  },
  {
   "cell_type": "code",
   "execution_count": null,
   "metadata": {},
   "outputs": [],
   "source": [
    "for i in [3,4,5]: ## for 문의 끝이 ':' 으로 끝남을 확인하시오!\n",
    "    print('i:',i) ## 반복의 대상이 되는 라인(들)은 indentation이 되어 있음에 유념하시오!"
   ]
  },
  {
   "cell_type": "code",
   "execution_count": null,
   "metadata": {},
   "outputs": [],
   "source": [
    "for i in range(3):\n",
    "    print('i:',i)"
   ]
  },
  {
   "cell_type": "markdown",
   "metadata": {},
   "source": [
    "- 1부터 10까지 더하기"
   ]
  },
  {
   "cell_type": "code",
   "execution_count": null,
   "metadata": {},
   "outputs": [],
   "source": [
    "for i in [1,2,3,4,5,6,7,8,9,10]:\n",
    "    print('i:',i)"
   ]
  },
  {
   "cell_type": "code",
   "execution_count": null,
   "metadata": {},
   "outputs": [],
   "source": [
    "s=0\n",
    "for i in [1,2,3,4,5,6,7,8,9,10]:\n",
    "    s=s+i\n",
    "print('sum:',s)"
   ]
  },
  {
   "cell_type": "markdown",
   "metadata": {},
   "source": [
    "- 위 예제의 일반화 (1에서부터 n까지의 합)"
   ]
  },
  {
   "cell_type": "code",
   "execution_count": null,
   "metadata": {},
   "outputs": [],
   "source": [
    "s=0\n",
    "n=10\n",
    "for i in range(n+1):\n",
    "    s=s+i\n",
    "print('sum:',s)"
   ]
  },
  {
   "cell_type": "markdown",
   "metadata": {},
   "source": [
    "- 1부터 3까지 곱하기 (3!)"
   ]
  },
  {
   "cell_type": "code",
   "execution_count": null,
   "metadata": {},
   "outputs": [],
   "source": [
    "n=3\n",
    "arr=[]\n",
    "for i in range(n):\n",
    "    arr.append(i+1)"
   ]
  },
  {
   "cell_type": "code",
   "execution_count": null,
   "metadata": {},
   "outputs": [],
   "source": [
    "print(arr)"
   ]
  },
  {
   "cell_type": "code",
   "execution_count": null,
   "metadata": {},
   "outputs": [],
   "source": [
    "fac=1.\n",
    "for val in arr:\n",
    "    fac=fac*val\n",
    "print(fac)"
   ]
  },
  {
   "cell_type": "markdown",
   "metadata": {},
   "source": [
    "- While loop\n",
    " \n",
    "사용법: while(boolean variable / or expression that may result in a boolean)"
   ]
  },
  {
   "cell_type": "code",
   "execution_count": null,
   "metadata": {},
   "outputs": [],
   "source": [
    "k=0\n",
    "l=1\n",
    "while(k<3): # as long as k is below 3\n",
    "    k=k+1\n",
    "    l=l*k # (((1x1)x2)x3)\n",
    "print('k:',k)\n",
    "print('l:',l)"
   ]
  },
  {
   "cell_type": "markdown",
   "metadata": {},
   "source": [
    "# 함수"
   ]
  },
  {
   "cell_type": "code",
   "execution_count": null,
   "metadata": {},
   "outputs": [],
   "source": [
    "def myfunc1(a,b,c): ## 함수 선언의 끝이 ':'기호임을 잊지 마세요!\n",
    "    print('a,b,c')  ## 함수내에 실행되는 실행문(들)은 indentation이 됨을 잊지 마세요!\n",
    "    print(a,b,c)"
   ]
  },
  {
   "cell_type": "code",
   "execution_count": null,
   "metadata": {},
   "outputs": [],
   "source": [
    "# 함수를 호출(call)할때는 parenthesis를 활용한다. []을 사용하지 않도록 주의할 것\n",
    "## 선언된 함수의 이름을 사용하고, argument의 이름이 explicit하게 주어지지 않을때 함수의 행동\n",
    "myfunc1(1,2,3) "
   ]
  },
  {
   "cell_type": "code",
   "execution_count": null,
   "metadata": {},
   "outputs": [],
   "source": [
    "myfunc1(b=1,a=2,c=3) ## 선언된 함수의 이름을 사용하고, argument의 이름이 explicit하게 주어질 때 함수의 행동"
   ]
  },
  {
   "cell_type": "markdown",
   "metadata": {},
   "source": [
    "함수는 변수(들)을 생산할 수 있다."
   ]
  },
  {
   "cell_type": "code",
   "execution_count": null,
   "metadata": {},
   "outputs": [],
   "source": [
    "def myfunc2(a,b,c):\n",
    "    \"\"\"\n",
    "    a,b,c는 모두 local 변수로써 함수 내에서만 a,b,c라는 이름을 가진다.\n",
    "    \"\"\"\n",
    "    return a*b*c"
   ]
  },
  {
   "cell_type": "code",
   "execution_count": null,
   "metadata": {},
   "outputs": [],
   "source": [
    "b=myfunc2(2,3,4) # b는 global 변수, myfunc2의 변수 b와는 무관하다.\n",
    "print(b)"
   ]
  },
  {
   "cell_type": "markdown",
   "metadata": {},
   "source": [
    "- 예제"
   ]
  },
  {
   "cell_type": "markdown",
   "metadata": {},
   "source": [
    "1. a,b,c가 주어질때, $y=ax^2+bx+c$ 의 함수의 $y(x)=0$을 만족시키는 해를 찾는 함수를 만들어 보자"
   ]
  },
  {
   "cell_type": "markdown",
   "metadata": {},
   "source": [
    "# Graphing using [matplotlib](https://matplotlib.org)\n",
    "The go-to plotting package for Python"
   ]
  },
  {
   "cell_type": "markdown",
   "metadata": {},
   "source": [
    "- x와 y 데이터가 list 혹은 NumPy 배열로 주어질 때, 간단히 그래프로 표현할 수 있음"
   ]
  },
  {
   "cell_type": "code",
   "execution_count": null,
   "metadata": {},
   "outputs": [],
   "source": [
    "x=np.linspace(1,3,100) # 숫자 1부터 3까지 100개의 숫자로 이루어진 NumPy 배열 생성하여 x에 저장"
   ]
  },
  {
   "cell_type": "code",
   "execution_count": null,
   "metadata": {},
   "outputs": [],
   "source": [
    "y=np.exp(x) # numpy의 exponential 함수 사용하여 exponetial(x)한 결과를 배열로 실행하여 y배열에 저장"
   ]
  },
  {
   "cell_type": "markdown",
   "metadata": {},
   "source": [
    "- x 배열을 가로축, y배열을 세로축으로 사용하여 graph 그리기. 선의 색깔은 붉은색(red)으로 지정"
   ]
  },
  {
   "cell_type": "code",
   "execution_count": null,
   "metadata": {},
   "outputs": [],
   "source": [
    "plot(x,y,color='red')"
   ]
  },
  {
   "cell_type": "markdown",
   "metadata": {},
   "source": [
    "- cosine 함수 그래프를 그려보자."
   ]
  },
  {
   "cell_type": "code",
   "execution_count": null,
   "metadata": {},
   "outputs": [],
   "source": [
    "#우선, 그리고자 하는 함수의 x 값 범위를 정하자.\n",
    "x0=-3.141592*2 # 시작\n",
    "x1= 3.141592*2 # 끝\n",
    "n=100 # 100개 정도의 x점\n",
    "x=np.linspace(x0,x1,n)"
   ]
  },
  {
   "cell_type": "code",
   "execution_count": null,
   "metadata": {},
   "outputs": [],
   "source": [
    "y=cos(x)\n",
    "plot(x,y)"
   ]
  },
  {
   "cell_type": "markdown",
   "metadata": {},
   "source": [
    "## 예제들"
   ]
  },
  {
   "cell_type": "markdown",
   "metadata": {},
   "source": [
    "- 다음을 그려보자 $y=\\sin(x), -2\\pi\\le x\\le 2\\pi$"
   ]
  },
  {
   "cell_type": "markdown",
   "metadata": {},
   "source": [
    "- 다음을 그려보자 $y=\\cos(x)\\sin(x), -2\\pi\\le x\\le 2\\pi$"
   ]
  },
  {
   "cell_type": "markdown",
   "metadata": {},
   "source": [
    "- 다음을 그려보자 $y=\\ln(x), 0\\le x\\le 10$ (np.log가 자연로그 함수)"
   ]
  },
  {
   "cell_type": "markdown",
   "metadata": {},
   "source": [
    "- 다음을 그려보자 $y=5x^2+2x+5, -10\\le x\\le 10$"
   ]
  },
  {
   "cell_type": "markdown",
   "metadata": {},
   "source": [
    "- 위 결과들을 logarithmic scale (log10)으로 나타내려면? (xscale 혹은 yscale 함수 사용 예: yscale('log') )"
   ]
  },
  {
   "cell_type": "markdown",
   "metadata": {},
   "source": [
    "## 과제"
   ]
  },
  {
   "cell_type": "markdown",
   "metadata": {},
   "source": [
    "- 수업시간에 다루었던 예제들을 직접 실행해보시오"
   ]
  }
 ],
 "metadata": {
  "kernelspec": {
   "display_name": "Python 3",
   "language": "python",
   "name": "python3"
  },
  "language_info": {
   "codemirror_mode": {
    "name": "ipython",
    "version": 3
   },
   "file_extension": ".py",
   "mimetype": "text/x-python",
   "name": "python",
   "nbconvert_exporter": "python",
   "pygments_lexer": "ipython3",
   "version": "3.8.1"
  }
 },
 "nbformat": 4,
 "nbformat_minor": 4
}
