{
 "cells": [
  {
   "cell_type": "markdown",
   "metadata": {},
   "source": [
    "Vector 그리고 matrix operations using [Python](htts://python.org) and [NumPy](https://numpy.org)\n",
    "\n",
    "[From zero to hero](https://memegenerator.net/img/instances/46932989.jpg).\n",
    "\n",
    "[창원대학교](https://changwon.ac.kr) 신소재공학부 [재료역학연구실](https://youngung.github.io/members/)  [정영웅](mailto:yjeong@changwon.ac.kr)"
   ]
  },
  {
   "cell_type": "code",
   "execution_count": null,
   "metadata": {},
   "outputs": [],
   "source": []
  }
 ],
 "metadata": {
  "kernelspec": {
   "display_name": "3.8.0",
   "language": "python",
   "name": "3.8.0"
  },
  "language_info": {
   "codemirror_mode": {
    "name": "ipython",
    "version": 3
   },
   "file_extension": ".py",
   "mimetype": "text/x-python",
   "name": "python",
   "nbconvert_exporter": "python",
   "pygments_lexer": "ipython3",
   "version": "3.8.0"
  }
 },
 "nbformat": 4,
 "nbformat_minor": 4
}
