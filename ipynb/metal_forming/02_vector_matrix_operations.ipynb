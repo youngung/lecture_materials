{
 "cells": [
  {
   "cell_type": "markdown",
   "metadata": {},
   "source": [
    "2021년 2학기 수업을 위한 [Jupyter](https://jupyter.org) notebook 그리고 [Python](https://python.org)\n",
    "\n",
    "![college](../../imgs/college-memes.jpg)\n",
    "\n",
    "[창원대학교](https://changwon.ac.kr) 신소재공학부 [재료역학연구실](https://youngung.github.io/members/)  [정영웅](mailto:yjeong@changwon.ac.kr)"
   ]
  },
  {
   "cell_type": "code",
   "execution_count": 1,
   "metadata": {},
   "outputs": [
    {
     "name": "stdout",
     "output_type": "stream",
     "text": [
      "Populating the interactive namespace from numpy and matplotlib\n"
     ]
    }
   ],
   "source": [
    "%pylab inline"
   ]
  },
  {
   "cell_type": "markdown",
   "metadata": {},
   "source": [
    "## loop 기억하나요?"
   ]
  },
  {
   "cell_type": "code",
   "execution_count": 2,
   "metadata": {},
   "outputs": [
    {
     "name": "stdout",
     "output_type": "stream",
     "text": [
      "i: 0\n",
      "i: 1\n",
      "i: 2\n"
     ]
    }
   ],
   "source": [
    "for i in range(3):\n",
    "    print('i:',i)"
   ]
  },
  {
   "cell_type": "markdown",
   "metadata": {},
   "source": [
    "## Dot product에 사용해볼까요?"
   ]
  },
  {
   "cell_type": "markdown",
   "metadata": {},
   "source": [
    "$\\mathbf{a}=(1,2,3)$ 그리고 $\\mathbf{b}=(2,-1,0)$ 이라면 다음과 같이 a와 b변수에 np.array 사용할 수 있겠다."
   ]
  },
  {
   "cell_type": "code",
   "execution_count": 3,
   "metadata": {},
   "outputs": [],
   "source": [
    "a=np.array([1,2,3])\n",
    "b=np.array([2,-1,0])"
   ]
  },
  {
   "cell_type": "markdown",
   "metadata": {},
   "source": [
    "$\\mathbf{a}\\cdot\\mathbf{b}=c$ 라 하면,\n",
    "c는 다음과 같이 정의된다.\n",
    "$c=\\sum_i^3{a_i b_i}=a_1b_1+a_2b_2+a_3b_3$\n",
    "이를 Python code로 옮기자면 ..."
   ]
  },
  {
   "cell_type": "code",
   "execution_count": 4,
   "metadata": {},
   "outputs": [],
   "source": [
    "c=0\n",
    "for i in range(3):\n",
    "    c=c+a[i]*b[i]"
   ]
  },
  {
   "cell_type": "markdown",
   "metadata": {},
   "source": [
    "정답을 확인해보자"
   ]
  },
  {
   "cell_type": "code",
   "execution_count": 5,
   "metadata": {},
   "outputs": [
    {
     "name": "stdout",
     "output_type": "stream",
     "text": [
      "c값은? 0\n"
     ]
    }
   ],
   "source": [
    "print('c값은?',c)"
   ]
  },
  {
   "cell_type": "markdown",
   "metadata": {},
   "source": [
    "- Cheat-sheet"
   ]
  },
  {
   "cell_type": "code",
   "execution_count": 6,
   "metadata": {},
   "outputs": [
    {
     "data": {
      "text/plain": [
       "0"
      ]
     },
     "execution_count": 6,
     "metadata": {},
     "output_type": "execute_result"
    }
   ],
   "source": [
    "np.dot(a,b)"
   ]
  },
  {
   "cell_type": "markdown",
   "metadata": {},
   "source": [
    "## Cross product?"
   ]
  },
  {
   "cell_type": "markdown",
   "metadata": {},
   "source": [
    "$\\mathbf{c}=\\mathbf{a}\\times\\mathbf{b}$\n",
    "\n",
    "$\\mathbf{c}\\cdot\\mathbf{e}_k=c_k\\mathbf{e}_k=a_ib_j\\epsilon_{ijk}\\mathbf{e}_k$"
   ]
  },
  {
   "cell_type": "markdown",
   "metadata": {},
   "source": [
    "- Levi-Civita (permutation) symbol"
   ]
  },
  {
   "cell_type": "code",
   "execution_count": 7,
   "metadata": {},
   "outputs": [],
   "source": [
    "def eps(i,j,k):\n",
    "    if i>2 or j>2 or k>2: \n",
    "        raise IOError('index should not exceed 2')\n",
    "    if i<0 or j<0 or k<0:\n",
    "        raise IOError('index should not be negative')\n",
    "    r=[i,j,k]\n",
    "    if i==j or j==k or i==k:\n",
    "        return 0\n",
    "    elif r==[0,1,2] or r==[1,2,0] or r==[2,0,1]:\n",
    "        return 1\n",
    "    elif r==[2,1,0] or r==[1,0,2] or [0,2,1]:\n",
    "        return -1\n",
    "    else:\n",
    "        raise IOError(\"somthing wrong\")"
   ]
  },
  {
   "cell_type": "code",
   "execution_count": 8,
   "metadata": {},
   "outputs": [],
   "source": [
    "c=np.zeros(3) # 비어있는 3D vector c 생성"
   ]
  },
  {
   "cell_type": "code",
   "execution_count": 9,
   "metadata": {},
   "outputs": [],
   "source": [
    "a=np.array([3,2,4])\n",
    "b=np.array([1,2,3])"
   ]
  },
  {
   "cell_type": "markdown",
   "metadata": {},
   "source": [
    "- 위 식의 위하면, 각 k index에 대해, i,j dummy index를 대상으로 summation 함"
   ]
  },
  {
   "cell_type": "code",
   "execution_count": 10,
   "metadata": {},
   "outputs": [],
   "source": [
    "for k in range(3):\n",
    "    c[k]=0.\n",
    "    for i in range(3):\n",
    "        for j in range(3):\n",
    "            c[k]=c[k]+a[i]*b[j]*eps(i,j,k)"
   ]
  },
  {
   "cell_type": "code",
   "execution_count": 11,
   "metadata": {},
   "outputs": [
    {
     "name": "stdout",
     "output_type": "stream",
     "text": [
      "c: [-2. -5.  4.]\n"
     ]
    }
   ],
   "source": [
    "print('c:',c)"
   ]
  },
  {
   "cell_type": "markdown",
   "metadata": {},
   "source": [
    "- cheat-sheet"
   ]
  },
  {
   "cell_type": "code",
   "execution_count": 12,
   "metadata": {},
   "outputs": [
    {
     "data": {
      "text/plain": [
       "array([-2, -5,  4])"
      ]
     },
     "execution_count": 12,
     "metadata": {},
     "output_type": "execute_result"
    }
   ],
   "source": [
    "np.cross(a,b)"
   ]
  },
  {
   "cell_type": "markdown",
   "metadata": {},
   "source": [
    "## 실습"
   ]
  },
  {
   "cell_type": "markdown",
   "metadata": {},
   "source": [
    "- a,b 두 벡터가 주어졌을때, cross product를 수행하여 그 결과를 return하는 함수를 작성해보자."
   ]
  },
  {
   "cell_type": "markdown",
   "metadata": {},
   "source": [
    "- 4좌표점이 주어졌을때, 그 좌표점들을 꼭지점으로하는 사면체의 부피를 구하는 함수를 작성해보자."
   ]
  }
 ],
 "metadata": {
  "kernelspec": {
   "display_name": "3.8.0",
   "language": "python",
   "name": "3.8.0"
  },
  "language_info": {
   "codemirror_mode": {
    "name": "ipython",
    "version": 3
   },
   "file_extension": ".py",
   "mimetype": "text/x-python",
   "name": "python",
   "nbconvert_exporter": "python",
   "pygments_lexer": "ipython3",
   "version": "3.8.0"
  }
 },
 "nbformat": 4,
 "nbformat_minor": 4
}
