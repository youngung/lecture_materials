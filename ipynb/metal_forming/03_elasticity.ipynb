{
 "cells": [
  {
   "cell_type": "code",
   "execution_count": null,
   "metadata": {},
   "outputs": [],
   "source": [
    "%pylab inline"
   ]
  },
  {
   "cell_type": "markdown",
   "metadata": {},
   "source": [
    "## 선형 등방 탄성 (Linear isotropic elasticity) constitutive law "
   ]
  },
  {
   "cell_type": "markdown",
   "metadata": {},
   "source": [
    "$$\n",
    "\\sigma_{ij}=\\mathbb{E}_{ijkl}\\varepsilon_{kl}\n",
    "$$"
   ]
  },
  {
   "cell_type": "markdown",
   "metadata": {},
   "source": [
    "### 1. 3x3x3x3 행렬에 탄성계수 텐서 (Elastic modulus tensor) 저장하기"
   ]
  },
  {
   "cell_type": "code",
   "execution_count": null,
   "metadata": {},
   "outputs": [],
   "source": [
    "E=np.zeros((3,3,3,3)) ## 0값으로 가득찬 3x3x3x3 행렬을 E에 저장"
   ]
  },
  {
   "cell_type": "markdown",
   "metadata": {},
   "source": [
    "선형 등방 탄성이론에 의하면 다음과 같이 탄성계수는 $\\mu$ 와 $\\mu$를 사용해 표현가능함.\n",
    "\n",
    "$$\\mathbb{E}_{ijkl}=\\lambda \\delta_{ij}\\delta_{kl}+\\mu (\\delta_{ik}\\delta_{jl}+\\delta_{il}\\delta_{jk})$$\n",
    "\n",
    "위에서 $i,j,k,l$ 모두 free indices임을 유의!"
   ]
  },
  {
   "cell_type": "markdown",
   "metadata": {},
   "source": [
    "### 2. Kronecker delta $\\delta$를 3x3 행렬에 저장하자."
   ]
  },
  {
   "cell_type": "code",
   "execution_count": null,
   "metadata": {},
   "outputs": [],
   "source": [
    "d=np.zeros((3,3)) ## 0값으로 가득찬 3x3 행렬을 d 에 저장\n",
    "for i in range(3): ## 인덱스 i를 0부터 2까지(3개) 증가하며 반복문 실행\n",
    "    d[i,i]=1"
   ]
  },
  {
   "cell_type": "code",
   "execution_count": null,
   "metadata": {},
   "outputs": [],
   "source": [
    "print(d)"
   ]
  },
  {
   "cell_type": "markdown",
   "metadata": {},
   "source": [
    "- cheat sheet"
   ]
  },
  {
   "cell_type": "code",
   "execution_count": null,
   "metadata": {},
   "outputs": [],
   "source": [
    "np.eye(3)"
   ]
  },
  {
   "cell_type": "markdown",
   "metadata": {},
   "source": [
    "### 3. 주어진 $\\lambda$와 $\\mu$를 바탕으로 $\\mathbb{E}$를 채워보자"
   ]
  },
  {
   "cell_type": "code",
   "execution_count": null,
   "metadata": {},
   "outputs": [],
   "source": [
    "lam=100\n",
    "mu=200."
   ]
  },
  {
   "cell_type": "code",
   "execution_count": null,
   "metadata": {},
   "outputs": [],
   "source": [
    "for i in range(3):\n",
    "    for j in range(3):\n",
    "        for k in range(3):\n",
    "            for l in range(3):\n",
    "                E[i,j,k,l]=lam * d[i,j]*d[k,l]  + mu * (d[i,k]*d[j,l]+d[i,l]*d[j,k])"
   ]
  },
  {
   "cell_type": "markdown",
   "metadata": {},
   "source": [
    "### 4. 변형률에 따라 달라지는 응력 텐서 살펴보기"
   ]
  },
  {
   "cell_type": "markdown",
   "metadata": {},
   "source": [
    " - $\\sigma_{ij}=\\mathbb{E}_{ijkl}\\varepsilon_{kl}$ 에 따르면, i,j 는 free 하지만 k,l 는 dummy indicies다."
   ]
  },
  {
   "cell_type": "markdown",
   "metadata": {},
   "source": [
    "- 예를 들어, 변형률이 다음과 같이 주어졌다면?"
   ]
  },
  {
   "cell_type": "code",
   "execution_count": null,
   "metadata": {},
   "outputs": [],
   "source": [
    "epsilon=np.zeros((3,3))\n",
    "epsilon[0,0]=0.01\n",
    "epsilon[1,1]=-0.00333\n",
    "epsilon[2,2]=-0.00333\n",
    "print('epsilon')\n",
    "print(epsilon)"
   ]
  },
  {
   "cell_type": "code",
   "execution_count": null,
   "metadata": {},
   "outputs": [],
   "source": [
    "sigma=np.zeros((3,3)) #0으로 채워진 3x3 matrix에 응력 텐서 저장"
   ]
  },
  {
   "cell_type": "code",
   "execution_count": null,
   "metadata": {},
   "outputs": [],
   "source": [
    "for i in range(3):\n",
    "    for j in range(3):\n",
    "        sigma[i,j]=0\n",
    "        for k in range(3):\n",
    "            for l in range(3):\n",
    "                ## sigma[i,j]에 누적해서 더하기 (summation over k,l indices)\n",
    "                sigma[i,j]=sigma[i,j]+E[i,j,k,l]*epsilon[k,l]"
   ]
  },
  {
   "cell_type": "code",
   "execution_count": null,
   "metadata": {},
   "outputs": [],
   "source": [
    "print('sigma:')\n",
    "print(sigma)"
   ]
  },
  {
   "cell_type": "markdown",
   "metadata": {},
   "source": [
    "### 5. NumPy cheat sheet"
   ]
  },
  {
   "cell_type": "code",
   "execution_count": null,
   "metadata": {},
   "outputs": [],
   "source": [
    "sigma=np.tensordot(E,epsilon,axes=2) ## E의 마지막 '2' axes, epsilon의 처음 '2' axes.\n",
    "print('sigma:')\n",
    "print(sigma)"
   ]
  },
  {
   "cell_type": "code",
   "execution_count": null,
   "metadata": {},
   "outputs": [],
   "source": [
    "a=np.tensordot(sigma,epsilon,axes=2)\n",
    "print('results:',a) ## 결과가 scalar 인점을 확인하시오"
   ]
  }
 ],
 "metadata": {
  "kernelspec": {
   "display_name": "3.8.0",
   "language": "python",
   "name": "3.8.0"
  },
  "language_info": {
   "codemirror_mode": {
    "name": "ipython",
    "version": 3
   },
   "file_extension": ".py",
   "mimetype": "text/x-python",
   "name": "python",
   "nbconvert_exporter": "python",
   "pygments_lexer": "ipython3",
   "version": "3.8.0"
  }
 },
 "nbformat": 4,
 "nbformat_minor": 4
}
